{
 "cells": [
  {
   "cell_type": "code",
   "execution_count": 43,
   "metadata": {},
   "outputs": [],
   "source": [
    "import math\n",
    "import pandas as pd\n",
    "import requests\n",
    "import json\n",
    "from pyairtable import Api\n",
    "from pyairtable.formulas import match"
   ]
  },
  {
   "cell_type": "code",
   "execution_count": 44,
   "metadata": {},
   "outputs": [],
   "source": [
    "#config\n",
    "\n",
    "project_id = 'TEST_STANDARD'\n",
    "new_project_id = 'TEST_2021'\n",
    "new_project_name = 'Projekttest021'\n",
    "\n",
    "BASE_ID = 'appP3ErdVOT3jS0OM'\n",
    "API_KEY = 'patmoYYlMYxZQHpSE.c527bb03e732ecdcb79df00166b5b70513e3e29f86f7cf3bcc83922fca713f3f'\n"
   ]
  },
  {
   "cell_type": "code",
   "execution_count": 45,
   "metadata": {},
   "outputs": [],
   "source": [
    "api = Api(api_key=API_KEY)"
   ]
  },
  {
   "cell_type": "code",
   "execution_count": 46,
   "metadata": {},
   "outputs": [],
   "source": [
    "def get_airtable_data(table_name):\n",
    "    formula = match({\"Project\": project_id})\n",
    "    return api.table(base_id=BASE_ID, table_name=table_name).all(formula=formula)"
   ]
  },
  {
   "cell_type": "code",
   "execution_count": 47,
   "metadata": {},
   "outputs": [],
   "source": [
    "tables = ['Objectives', 'Usecases', 'Models', 'Elements', 'Attributes']"
   ]
  },
  {
   "cell_type": "code",
   "execution_count": 48,
   "metadata": {},
   "outputs": [],
   "source": [
    "tables = {table_name: get_airtable_data(table_name) for table_name in tables}"
   ]
  },
  {
   "cell_type": "code",
   "execution_count": 49,
   "metadata": {},
   "outputs": [],
   "source": [
    "# Convert to pandas dataframe and add id column\n",
    "for table in tables.keys():\n",
    "    for i in range(len(tables[table])):\n",
    "        tables[table][i]['fields']['id'] = tables[table][i]['id']\n",
    "    tables[table] = pd.DataFrame.from_records((r['fields'] for r in tables[table]))"
   ]
  },
  {
   "cell_type": "code",
   "execution_count": 50,
   "metadata": {},
   "outputs": [
    {
     "data": {
      "text/html": [
       "<div>\n",
       "<style scoped>\n",
       "    .dataframe tbody tr th:only-of-type {\n",
       "        vertical-align: middle;\n",
       "    }\n",
       "\n",
       "    .dataframe tbody tr th {\n",
       "        vertical-align: top;\n",
       "    }\n",
       "\n",
       "    .dataframe thead th {\n",
       "        text-align: right;\n",
       "    }\n",
       "</style>\n",
       "<table border=\"1\" class=\"dataframe\">\n",
       "  <thead>\n",
       "    <tr style=\"text-align: right;\">\n",
       "      <th></th>\n",
       "      <th>ProjectName</th>\n",
       "      <th>Attribute</th>\n",
       "      <th>ProjectID</th>\n",
       "      <th>ProjectDescriptionEN</th>\n",
       "      <th>Models</th>\n",
       "      <th>OrderVersion</th>\n",
       "      <th>Document</th>\n",
       "      <th>ProjectNumber</th>\n",
       "      <th>Element</th>\n",
       "      <th>Sort</th>\n",
       "      <th>...</th>\n",
       "      <th>ProjectDescriptionDE</th>\n",
       "      <th>Created</th>\n",
       "      <th>CreatedBy</th>\n",
       "      <th>LastModified</th>\n",
       "      <th>UsecaseNameDE</th>\n",
       "      <th>UsecaseCode</th>\n",
       "      <th>ObjectiveEN</th>\n",
       "      <th>ObjectiveDE</th>\n",
       "      <th>LastModifiedBy</th>\n",
       "      <th>RecordID</th>\n",
       "    </tr>\n",
       "  </thead>\n",
       "  <tbody>\n",
       "    <tr>\n",
       "      <th>0</th>\n",
       "      <td>Elementplan Vorlage</td>\n",
       "      <td>[recLLLaXK9bP81iYb, recfrU4Br4jFNUSna, reclVyn...</td>\n",
       "      <td>TEST_STANDARD</td>\n",
       "      <td>The template project to effectively communicat...</td>\n",
       "      <td>[reclnkuQvrlOC9aEl, recqXHSPBoi3uRxzQ]</td>\n",
       "      <td>[recosiGFBrE0Pifn9]</td>\n",
       "      <td>[receXmvp9N1U02TOo]</td>\n",
       "      <td>00000</td>\n",
       "      <td>[recYvVWmxWRIGoXS4, recJix7UBsz6pIB7y, recDkLF...</td>\n",
       "      <td>0</td>\n",
       "      <td>...</td>\n",
       "      <td>Das Vorlageprojekt um den Standard wirkungsvol...</td>\n",
       "      <td>2022-03-10T10:29:30.000Z</td>\n",
       "      <td>{'id': 'usreIhaXmobxYfUJe', 'email': 'simon.di...</td>\n",
       "      <td>2023-09-11T15:07:10.000Z</td>\n",
       "      <td>[Managen von Raumbezogenen Attributen im Proje...</td>\n",
       "      <td>[BUC-PUM-3]</td>\n",
       "      <td>[None, None, None, None]</td>\n",
       "      <td>[Verbesserte Kommunikation und Informationsaus...</td>\n",
       "      <td>{'id': 'usreIhaXmobxYfUJe', 'email': 'simon.di...</td>\n",
       "      <td>rec5E5gc7MaPvDb95</td>\n",
       "    </tr>\n",
       "  </tbody>\n",
       "</table>\n",
       "<p>1 rows × 24 columns</p>\n",
       "</div>"
      ],
      "text/plain": [
       "           ProjectName                                          Attribute  \\\n",
       "0  Elementplan Vorlage  [recLLLaXK9bP81iYb, recfrU4Br4jFNUSna, reclVyn...   \n",
       "\n",
       "       ProjectID                               ProjectDescriptionEN  \\\n",
       "0  TEST_STANDARD  The template project to effectively communicat...   \n",
       "\n",
       "                                   Models         OrderVersion  \\\n",
       "0  [reclnkuQvrlOC9aEl, recqXHSPBoi3uRxzQ]  [recosiGFBrE0Pifn9]   \n",
       "\n",
       "              Document ProjectNumber  \\\n",
       "0  [receXmvp9N1U02TOo]         00000   \n",
       "\n",
       "                                             Element  Sort  ...  \\\n",
       "0  [recYvVWmxWRIGoXS4, recJix7UBsz6pIB7y, recDkLF...     0  ...   \n",
       "\n",
       "                                ProjectDescriptionDE  \\\n",
       "0  Das Vorlageprojekt um den Standard wirkungsvol...   \n",
       "\n",
       "                    Created  \\\n",
       "0  2022-03-10T10:29:30.000Z   \n",
       "\n",
       "                                           CreatedBy  \\\n",
       "0  {'id': 'usreIhaXmobxYfUJe', 'email': 'simon.di...   \n",
       "\n",
       "               LastModified  \\\n",
       "0  2023-09-11T15:07:10.000Z   \n",
       "\n",
       "                                       UsecaseNameDE  UsecaseCode  \\\n",
       "0  [Managen von Raumbezogenen Attributen im Proje...  [BUC-PUM-3]   \n",
       "\n",
       "                ObjectiveEN  \\\n",
       "0  [None, None, None, None]   \n",
       "\n",
       "                                         ObjectiveDE  \\\n",
       "0  [Verbesserte Kommunikation und Informationsaus...   \n",
       "\n",
       "                                      LastModifiedBy           RecordID  \n",
       "0  {'id': 'usreIhaXmobxYfUJe', 'email': 'simon.di...  rec5E5gc7MaPvDb95  \n",
       "\n",
       "[1 rows x 24 columns]"
      ]
     },
     "execution_count": 50,
     "metadata": {},
     "output_type": "execute_result"
    }
   ],
   "source": [
    "formula = match({\"ProjectID\": project_id})\n",
    "df_project = api.table(base_id=BASE_ID, table_name='Projects').all(formula=formula)\n",
    "df_project = pd.DataFrame.from_records((r['fields'] for r in df_project)).copy()\n",
    "df_project"
   ]
  },
  {
   "cell_type": "code",
   "execution_count": 51,
   "metadata": {},
   "outputs": [
    {
     "data": {
      "text/plain": [
       "Index(['ProjectName', 'Attribute', 'ProjectID', 'ProjectDescriptionEN',\n",
       "       'Models', 'OrderVersion', 'Document', 'ProjectNumber', 'Element',\n",
       "       'Sort', 'ProjectDescriptionIT', 'Usecase', 'Objective',\n",
       "       'ProjectDescriptionFR', 'ProjectDescriptionDE'],\n",
       "      dtype='object')"
      ]
     },
     "execution_count": 51,
     "metadata": {},
     "output_type": "execute_result"
    }
   ],
   "source": [
    "def drop_columns(df, columns_to_drop):\n",
    "    existing_columns = [col for col in columns_to_drop if col in df.columns]\n",
    "    if existing_columns:\n",
    "        df.drop(existing_columns, axis=1, inplace=True)\n",
    "    return df\n",
    "\n",
    "columns_to_drop = ['RecordID', 'Project Picture','Created', 'CreatedBy',\n",
    "       'LastModified','LastModifiedBy','UsecaseNameDE', 'UsecaseNameEN', 'UsecaseNameFR', 'UsecaseNameIT','ObjectiveEN, ObjectiveDE, ObjectiveFR, ObjectiveIT', 'ObjectiveEN','ObjectiveDE', 'UsecaseCode']\n",
    "\n",
    "df_project = drop_columns(df_project, columns_to_drop)\n",
    "df_project.columns\n"
   ]
  },
  {
   "cell_type": "code",
   "execution_count": 52,
   "metadata": {},
   "outputs": [
    {
     "data": {
      "text/html": [
       "<div>\n",
       "<style scoped>\n",
       "    .dataframe tbody tr th:only-of-type {\n",
       "        vertical-align: middle;\n",
       "    }\n",
       "\n",
       "    .dataframe tbody tr th {\n",
       "        vertical-align: top;\n",
       "    }\n",
       "\n",
       "    .dataframe thead th {\n",
       "        text-align: right;\n",
       "    }\n",
       "</style>\n",
       "<table border=\"1\" class=\"dataframe\">\n",
       "  <thead>\n",
       "    <tr style=\"text-align: right;\">\n",
       "      <th></th>\n",
       "      <th>ProjectName</th>\n",
       "      <th>Attribute</th>\n",
       "      <th>ProjectID</th>\n",
       "      <th>ProjectDescriptionEN</th>\n",
       "      <th>Models</th>\n",
       "      <th>OrderVersion</th>\n",
       "      <th>Document</th>\n",
       "      <th>ProjectNumber</th>\n",
       "      <th>Element</th>\n",
       "      <th>Sort</th>\n",
       "      <th>ProjectDescriptionIT</th>\n",
       "      <th>Usecase</th>\n",
       "      <th>Objective</th>\n",
       "      <th>ProjectDescriptionFR</th>\n",
       "      <th>ProjectDescriptionDE</th>\n",
       "    </tr>\n",
       "  </thead>\n",
       "  <tbody>\n",
       "    <tr>\n",
       "      <th>0</th>\n",
       "      <td>Projekttest021</td>\n",
       "      <td>[recLLLaXK9bP81iYb, recfrU4Br4jFNUSna, reclVyn...</td>\n",
       "      <td>TEST_2021</td>\n",
       "      <td>The template project to effectively communicat...</td>\n",
       "      <td>[reclnkuQvrlOC9aEl, recqXHSPBoi3uRxzQ]</td>\n",
       "      <td>[recosiGFBrE0Pifn9]</td>\n",
       "      <td>[receXmvp9N1U02TOo]</td>\n",
       "      <td>00000</td>\n",
       "      <td>[recYvVWmxWRIGoXS4, recJix7UBsz6pIB7y, recDkLF...</td>\n",
       "      <td>0</td>\n",
       "      <td>Il progetto modello per comunicare efficacemen...</td>\n",
       "      <td>[recC7PojlNVBReAUL, recMvEdu0wgpSrGgy]</td>\n",
       "      <td>[recILSt1AWmzZ0s62, recHnGLjaiVsKKET8, recSgCO...</td>\n",
       "      <td>Le modèle Project pour communiquer efficacemen...</td>\n",
       "      <td>Das Vorlageprojekt um den Standard wirkungsvol...</td>\n",
       "    </tr>\n",
       "  </tbody>\n",
       "</table>\n",
       "</div>"
      ],
      "text/plain": [
       "      ProjectName                                          Attribute  \\\n",
       "0  Projekttest021  [recLLLaXK9bP81iYb, recfrU4Br4jFNUSna, reclVyn...   \n",
       "\n",
       "   ProjectID                               ProjectDescriptionEN  \\\n",
       "0  TEST_2021  The template project to effectively communicat...   \n",
       "\n",
       "                                   Models         OrderVersion  \\\n",
       "0  [reclnkuQvrlOC9aEl, recqXHSPBoi3uRxzQ]  [recosiGFBrE0Pifn9]   \n",
       "\n",
       "              Document ProjectNumber  \\\n",
       "0  [receXmvp9N1U02TOo]         00000   \n",
       "\n",
       "                                             Element  Sort  \\\n",
       "0  [recYvVWmxWRIGoXS4, recJix7UBsz6pIB7y, recDkLF...     0   \n",
       "\n",
       "                                ProjectDescriptionIT  \\\n",
       "0  Il progetto modello per comunicare efficacemen...   \n",
       "\n",
       "                                  Usecase  \\\n",
       "0  [recC7PojlNVBReAUL, recMvEdu0wgpSrGgy]   \n",
       "\n",
       "                                           Objective  \\\n",
       "0  [recILSt1AWmzZ0s62, recHnGLjaiVsKKET8, recSgCO...   \n",
       "\n",
       "                                ProjectDescriptionFR  \\\n",
       "0  Le modèle Project pour communiquer efficacemen...   \n",
       "\n",
       "                                ProjectDescriptionDE  \n",
       "0  Das Vorlageprojekt um den Standard wirkungsvol...  "
      ]
     },
     "execution_count": 52,
     "metadata": {},
     "output_type": "execute_result"
    }
   ],
   "source": [
    "# Change the project ID and name\n",
    "df_project['ProjectID'] = new_project_id\n",
    "df_project['ProjectName'] = new_project_name\n",
    "df_project"
   ]
  },
  {
   "cell_type": "markdown",
   "metadata": {},
   "source": [
    "### Upload empty records to generate new ids"
   ]
  },
  {
   "cell_type": "code",
   "execution_count": 53,
   "metadata": {},
   "outputs": [],
   "source": [
    "table = api.table(base_id=BASE_ID, table_name='Objectives')\n",
    "for _ in range(4): table.create({})\n",
    "table = api.table(base_id=BASE_ID, table_name='Usecases')\n",
    "for _ in range(2): table.create({})\n",
    "table = api.table(base_id=BASE_ID, table_name='Models')\n",
    "for _ in range(2): table.create({})\n",
    "table = api.table(base_id=BASE_ID, table_name='Elements')\n",
    "for _ in range(9): table.create({})\n",
    "table = api.table(base_id=BASE_ID, table_name='Attributes')\n",
    "for _ in range(48): table.create({})"
   ]
  },
  {
   "cell_type": "markdown",
   "metadata": {},
   "source": [
    "### Get the new ids"
   ]
  },
  {
   "cell_type": "code",
   "execution_count": 54,
   "metadata": {},
   "outputs": [],
   "source": [
    "formula = match({'Sort':''})\n",
    "new_ids_usecases = api.table(base_id=BASE_ID, table_name='Usecases').all(formula=formula)\n",
    "new_ids_usecases = [r['id'] for r in new_ids_usecases]\n",
    "new_ids_objectives = api.table(base_id=BASE_ID, table_name='Objectives').all(formula=formula)\n",
    "new_ids_objectives = [r['id'] for r in new_ids_objectives]\n",
    "new_ids_models = api.table(base_id=BASE_ID, table_name='Models').all(formula=formula)\n",
    "new_ids_models = [r['id'] for r in new_ids_models]\n",
    "new_ids_elements = api.table(base_id=BASE_ID, table_name='Elements').all(formula=formula)\n",
    "new_ids_elements = [r['id'] for r in new_ids_elements]\n",
    "new_ids_attributes = api.table(base_id=BASE_ID, table_name='Attributes').all(formula=formula)\n",
    "new_ids_attributes = [r['id'] for r in new_ids_attributes]"
   ]
  },
  {
   "cell_type": "markdown",
   "metadata": {},
   "source": [
    "### Get the old ids"
   ]
  },
  {
   "cell_type": "code",
   "execution_count": 55,
   "metadata": {},
   "outputs": [],
   "source": [
    "usecases_old = tables['Usecases']['id'].to_list()\n",
    "objectives_old = tables['Objectives']['id'].to_list()\n",
    "models_old = tables['Models']['id'].to_list()\n",
    "elements_old = tables['Elements']['id'].to_list()\n",
    "attributes_old = tables['Attributes']['id'].to_list()"
   ]
  },
  {
   "cell_type": "markdown",
   "metadata": {},
   "source": [
    "### Update the project links"
   ]
  },
  {
   "cell_type": "code",
   "execution_count": 56,
   "metadata": {},
   "outputs": [
    {
     "data": {
      "text/html": [
       "<div>\n",
       "<style scoped>\n",
       "    .dataframe tbody tr th:only-of-type {\n",
       "        vertical-align: middle;\n",
       "    }\n",
       "\n",
       "    .dataframe tbody tr th {\n",
       "        vertical-align: top;\n",
       "    }\n",
       "\n",
       "    .dataframe thead th {\n",
       "        text-align: right;\n",
       "    }\n",
       "</style>\n",
       "<table border=\"1\" class=\"dataframe\">\n",
       "  <thead>\n",
       "    <tr style=\"text-align: right;\">\n",
       "      <th></th>\n",
       "      <th>ProjectName</th>\n",
       "      <th>Attribute</th>\n",
       "      <th>ProjectID</th>\n",
       "      <th>ProjectDescriptionEN</th>\n",
       "      <th>Models</th>\n",
       "      <th>OrderVersion</th>\n",
       "      <th>Document</th>\n",
       "      <th>ProjectNumber</th>\n",
       "      <th>Element</th>\n",
       "      <th>Sort</th>\n",
       "      <th>ProjectDescriptionIT</th>\n",
       "      <th>Usecase</th>\n",
       "      <th>Objective</th>\n",
       "      <th>ProjectDescriptionFR</th>\n",
       "      <th>ProjectDescriptionDE</th>\n",
       "    </tr>\n",
       "  </thead>\n",
       "  <tbody>\n",
       "    <tr>\n",
       "      <th>0</th>\n",
       "      <td>Projekttest021</td>\n",
       "      <td>[rec2Ma3SblyGNxPyV, rec8z9bYlvq0UQFYo, rec9b7S...</td>\n",
       "      <td>TEST_2021</td>\n",
       "      <td>The template project to effectively communicat...</td>\n",
       "      <td>[rec2gbTj0UWBXbTCg, recKLCKwCusT6CVKo]</td>\n",
       "      <td>[recosiGFBrE0Pifn9]</td>\n",
       "      <td>[receXmvp9N1U02TOo]</td>\n",
       "      <td>00000</td>\n",
       "      <td>[rec1Muj2OptfVVZ4e, recCnlQqAY64E8pKj, recIUX9...</td>\n",
       "      <td>0</td>\n",
       "      <td>Il progetto modello per comunicare efficacemen...</td>\n",
       "      <td>[rec4r6Kg6lCfbhQ3m, reckPvplCCidkzUPa]</td>\n",
       "      <td>[recEryu16vCbV8YKP, recbPLXU59zsRpfTW, recegdy...</td>\n",
       "      <td>Le modèle Project pour communiquer efficacemen...</td>\n",
       "      <td>Das Vorlageprojekt um den Standard wirkungsvol...</td>\n",
       "    </tr>\n",
       "  </tbody>\n",
       "</table>\n",
       "</div>"
      ],
      "text/plain": [
       "      ProjectName                                          Attribute  \\\n",
       "0  Projekttest021  [rec2Ma3SblyGNxPyV, rec8z9bYlvq0UQFYo, rec9b7S...   \n",
       "\n",
       "   ProjectID                               ProjectDescriptionEN  \\\n",
       "0  TEST_2021  The template project to effectively communicat...   \n",
       "\n",
       "                                   Models         OrderVersion  \\\n",
       "0  [rec2gbTj0UWBXbTCg, recKLCKwCusT6CVKo]  [recosiGFBrE0Pifn9]   \n",
       "\n",
       "              Document ProjectNumber  \\\n",
       "0  [receXmvp9N1U02TOo]         00000   \n",
       "\n",
       "                                             Element  Sort  \\\n",
       "0  [rec1Muj2OptfVVZ4e, recCnlQqAY64E8pKj, recIUX9...     0   \n",
       "\n",
       "                                ProjectDescriptionIT  \\\n",
       "0  Il progetto modello per comunicare efficacemen...   \n",
       "\n",
       "                                  Usecase  \\\n",
       "0  [rec4r6Kg6lCfbhQ3m, reckPvplCCidkzUPa]   \n",
       "\n",
       "                                           Objective  \\\n",
       "0  [recEryu16vCbV8YKP, recbPLXU59zsRpfTW, recegdy...   \n",
       "\n",
       "                                ProjectDescriptionFR  \\\n",
       "0  Le modèle Project pour communiquer efficacemen...   \n",
       "\n",
       "                                ProjectDescriptionDE  \n",
       "0  Das Vorlageprojekt um den Standard wirkungsvol...  "
      ]
     },
     "execution_count": 56,
     "metadata": {},
     "output_type": "execute_result"
    }
   ],
   "source": [
    "for u in new_ids_usecases:\n",
    "    df_project.loc[0,'Usecase'].append(u)\n",
    "for _ in range(2):\n",
    "    df_project.loc[0,'Usecase'].pop(0)\n",
    "\n",
    "for o in new_ids_objectives:\n",
    "    df_project.loc[0,'Objective'].append(o)\n",
    "for _ in range(4):\n",
    "    df_project.loc[0,'Objective'].pop(0)\n",
    "\n",
    "for m in new_ids_models:\n",
    "    df_project.loc[0,'Models'].append(m)\n",
    "for _ in range(2):\n",
    "    df_project.loc[0,'Models'].pop(0)\n",
    "\n",
    "for e in new_ids_elements:\n",
    "    df_project.loc[0,'Element'].append(e)\n",
    "for _ in range(9):\n",
    "    df_project.loc[0,'Element'].pop(0)\n",
    "\n",
    "for a in new_ids_attributes:\n",
    "    df_project.loc[0,'Attribute'].append(a)\n",
    "for _ in range(48):\n",
    "    df_project.loc[0,'Attribute'].pop(0)\n",
    "\n",
    "df_project"
   ]
  },
  {
   "cell_type": "markdown",
   "metadata": {},
   "source": [
    "### Upload the new project to airtable"
   ]
  },
  {
   "cell_type": "code",
   "execution_count": 57,
   "metadata": {},
   "outputs": [
    {
     "name": "stdout",
     "output_type": "stream",
     "text": [
      "b'{\"id\":\"recpqwYE1ESwSrtDs\",\"createdTime\":\"2023-09-20T14:51:54.000Z\",\"fields\":{\"ProjectID\":\"TEST_2021\",\"Models\":[\"rec2gbTj0UWBXbTCg\",\"recKLCKwCusT6CVKo\"],\"Usecase\":[\"rec4r6Kg6lCfbhQ3m\",\"reckPvplCCidkzUPa\"],\"Element\":[\"rec1Muj2OptfVVZ4e\",\"recCnlQqAY64E8pKj\",\"recIUX9dDTNZ5r6nY\",\"recQibIrk9I3NibWf\",\"recWYtCaIlQu4WeVD\",\"recZ1jhXp4X8hqR2f\",\"reccfqv3TEX6LM850\",\"recjptKGZtROefuOn\",\"recusE9Zh89sMPL4J\"],\"Attribute\":[\"rec2Ma3SblyGNxPyV\",\"rec8z9bYlvq0UQFYo\",\"rec9b7SqKg2DodWD1\",\"rec9tJ1pbMERXw4oE\",\"recAFZZdigXQ7bDY3\",\"recCinRAVDMzarx8w\",\"recDqKBM2dpbRB4ag\",\"recEwUsJgZqGmZydR\",\"recFKJ5pBydNdon6T\",\"recGTAaxmCxq4Q3py\",\"recH1httyPaefdRcm\",\"recLR0QhU2LSeG8gO\",\"recORIW2ZVkh2HyLO\",\"recTf4eXAznfB5bJz\",\"recVLNtrDZ1L7Rgfp\",\"recWJcY6DtkbPFKOQ\",\"recWLaNfSCBc1gaPQ\",\"recXmol4PjODdIlmI\",\"recZnYrXIyhn5dDln\",\"recbF0Mws8mnHzY8Z\",\"reccv0e2CoR31enAX\",\"recdQINikipUjqVQv\",\"recdV7NMQrND84TmM\",\"recdvE9XGQTFWhjzr\",\"receCnfcTkKqHbpQY\",\"receSDsWPdU0OKjTp\",\"recfViJm9tXIxQa0N\",\"recinKs01EbLhqAPd\",\"recjpGfp4IBKNZEFV\",\"reck8TXXdNDDWt2Xq\",\"reckMqJS5TZ06ot0W\",\"reclYUADnITbGEo1Z\",\"recm0sCApjgM3gnG7\",\"recmpfVmIfmD0mI1B\",\"recmxOj7tC3Yr0jHC\",\"recnANLypVMCctCtL\",\"recnMCxVNIKkgmsD0\",\"recoxYeVfdLyc1RTD\",\"recplWKwfnwnLVYs3\",\"recqupFeJeYluebGY\",\"recrhl2Lf96S1x1ay\",\"recsRjpcNXjw4OuB8\",\"recsaLfSdiJQ7zum1\",\"rectIbcfinKoPT2YM\",\"rectXy0MZPwR4nDcL\",\"recwLkAYx50uUmI3N\",\"recyHVgfiuZPm8gOv\",\"recymHbJq7ofa2SMF\"],\"Document\":[\"receXmvp9N1U02TOo\"],\"Objective\":[\"recEryu16vCbV8YKP\",\"recbPLXU59zsRpfTW\",\"recegdynMyD7R2Nav\",\"rect60bu7Cd4jVEST\"],\"ProjectNumber\":\"00000\",\"Sort\":0,\"ProjectName\":\"Projekttest021\",\"ProjectDescriptionDE\":\"Das Vorlageprojekt um den Standard wirkungsvoll zu kommunizieren.\\\\n\",\"ProjectDescriptionEN\":\"The template project to effectively communicate the Armasuisse standard.\\\\n\",\"ProjectDescriptionFR\":\"Le mod\\xc3\\xa8le Project pour communiquer efficacement l\\'Armasuisse.\\\\n\",\"ProjectDescriptionIT\":\"Il progetto modello per comunicare efficacemente l\\'Armasuisse.\\\\n\",\"OrderVersion\":[\"recosiGFBrE0Pifn9\"],\"Created\":\"2023-09-20T14:51:54.000Z\",\"CreatedBy\":{\"id\":\"usreIhaXmobxYfUJe\",\"email\":\"simon.dilhas@abstract.build\",\"name\":\"Simon Dilhas\"},\"LastModified\":\"2023-09-20T14:51:54.000Z\",\"LastModifiedBy\":{\"id\":\"usreIhaXmobxYfUJe\",\"email\":\"simon.dilhas@abstract.build\",\"name\":\"Simon Dilhas\"},\"RecordID\":\"recpqwYE1ESwSrtDs\"}}'\n"
     ]
    }
   ],
   "source": [
    "def upload_to_airtable(api_key, base_id, table_name, dataframe):\n",
    "    \n",
    "    url = f\"https://api.airtable.com/v0/{base_id}/{table_name}\"\n",
    "    headers = {\n",
    "        \"Authorization\": f\"Bearer {api_key}\",\n",
    "        \"Content-Type\": \"application/json\"\n",
    "    }\n",
    "\n",
    "    responses = []\n",
    "\n",
    "    # Convert each row in the DataFrame to a dictionary and upload\n",
    "    for _, row in dataframe.iterrows():\n",
    "        data = {\"fields\": row.to_dict()}\n",
    "        response = requests.post(url, headers=headers, data=json.dumps(data))\n",
    "        responses.append(response.content)\n",
    "\n",
    "    return responses\n",
    "\n",
    "responses = upload_to_airtable(API_KEY, BASE_ID, 'PROJECTS', df_project)\n",
    "for response in responses:\n",
    "    print(response)"
   ]
  },
  {
   "cell_type": "markdown",
   "metadata": {},
   "source": [
    "## Process the tables"
   ]
  },
  {
   "cell_type": "code",
   "execution_count": 83,
   "metadata": {},
   "outputs": [],
   "source": [
    "new_project_record_id = json.loads(responses[0])['id']"
   ]
  },
  {
   "cell_type": "code",
   "execution_count": 59,
   "metadata": {},
   "outputs": [],
   "source": [
    "columns_to_drop = ['Project Picture','Created', 'CreatedBy','RecordID', 'ObjectiveEN','Project',\n",
    "       'LastModified','LastModifiedBy', 'ObjectiveID', 'VersionDate', 'DateMod', 'VersionChanged']\n",
    "for table in tables.keys():\n",
    "    tables[table] = drop_columns(tables[table], columns_to_drop)"
   ]
  },
  {
   "cell_type": "code",
   "execution_count": 60,
   "metadata": {},
   "outputs": [],
   "source": [
    "# Replace usecases ids\n",
    "for old, new in zip(usecases_old, new_ids_usecases):\n",
    "    # On the Usecases table\n",
    "    for i in range(len(tables['Usecases'])):\n",
    "        if tables['Usecases'].loc[i, 'id'] == old:\n",
    "            tables['Usecases'].loc[i, 'id'] = new\n",
    "            break\n",
    "    # On the Objectives table\n",
    "    for _, row in tables['Objectives'].iterrows():\n",
    "        if type(row['Usecase']) == list:\n",
    "            if old in row['Usecase']:\n",
    "                row['Usecase'].remove(old)\n",
    "                row['Usecase'].append(new)\n",
    "    # On the Models table\n",
    "    for _, row in tables['Models'].iterrows():\n",
    "        if type(row['Usecase']) == list:\n",
    "            if old in row['Usecase']:\n",
    "                row['Usecase'].remove(old)\n",
    "                row['Usecase'].append(new)\n",
    "    # On the Attributes table\n",
    "    for _, row in tables['Attributes'].iterrows():\n",
    "        if type(row['Usecase']) == list:\n",
    "            if old in row['Usecase']:\n",
    "                row['Usecase'].remove(old)\n",
    "                row['Usecase'].append(new)\n",
    "    # On the Elements table\n",
    "    for _, row in tables['Elements'].iterrows():\n",
    "        if type(row['Usecase']) == list:\n",
    "            if old in row['Usecase']:\n",
    "                row['Usecase'].remove(old)\n",
    "                row['Usecase'].append(new)"
   ]
  },
  {
   "cell_type": "code",
   "execution_count": 61,
   "metadata": {},
   "outputs": [],
   "source": [
    "tables['Usecases'].drop(['Models', 'Attribute', 'Elements', 'Objective'], axis=1, inplace=True)"
   ]
  },
  {
   "cell_type": "code",
   "execution_count": 62,
   "metadata": {},
   "outputs": [],
   "source": [
    "for old, new in zip(attributes_old, new_ids_attributes):\n",
    "    for i in range(len(tables['Attributes'])):\n",
    "        if tables['Attributes'].loc[i, 'id'] == old:\n",
    "            tables['Attributes'].loc[i, 'id'] = new\n",
    "            break\n",
    "    for _, row in tables['Elements'].iterrows():\n",
    "        if type(row['Attribute']) == list:\n",
    "            if old in row['Attribute']:\n",
    "                row['Attribute'].remove(old)\n",
    "                row['Attribute'].append(new)\n",
    "    for _, row in tables['Models'].iterrows():\n",
    "        if type(row['Attributes']) == list:\n",
    "            if old in row['Attributes']:\n",
    "                row['Attributes'].remove(old)\n",
    "                row['Attributes'].append(new)"
   ]
  },
  {
   "cell_type": "code",
   "execution_count": 63,
   "metadata": {},
   "outputs": [],
   "source": [
    "tables['Attributes'].drop(['Element', 'Model'], axis=1, inplace=True)"
   ]
  },
  {
   "cell_type": "code",
   "execution_count": 64,
   "metadata": {},
   "outputs": [],
   "source": [
    "for old, new in zip(elements_old, new_ids_elements):\n",
    "    for i in range(len(tables['Elements'])):\n",
    "        if tables['Elements'].loc[i, 'id'] == old:\n",
    "            tables['Elements'].loc[i, 'id'] = new\n",
    "            break\n",
    "    for _, row in tables['Models'].iterrows():\n",
    "        if type(row['Element']) == list:\n",
    "            if old in row['Element']:\n",
    "                row['Element'].remove(old)\n",
    "                row['Element'].append(new)"
   ]
  },
  {
   "cell_type": "code",
   "execution_count": 65,
   "metadata": {},
   "outputs": [],
   "source": [
    "tables['Elements'].drop('Model', axis=1, inplace=True)"
   ]
  },
  {
   "cell_type": "code",
   "execution_count": 66,
   "metadata": {},
   "outputs": [],
   "source": [
    "for old, new in zip(models_old, new_ids_models):\n",
    "    for i in range(len(tables['Models'])):\n",
    "        if tables['Models'].loc[i, 'id'] == old:\n",
    "            tables['Models'].loc[i, 'id'] = new\n",
    "            break\n",
    "\n",
    "for old, new in zip(objectives_old, new_ids_objectives):\n",
    "    for i in range(len(tables['Objectives'])):\n",
    "        if tables['Objectives'].loc[i, 'id'] == old:\n",
    "            tables['Objectives'].loc[i, 'id'] = new\n",
    "            break"
   ]
  },
  {
   "cell_type": "markdown",
   "metadata": {},
   "source": [
    "### Update the empty records in airtable"
   ]
  },
  {
   "cell_type": "code",
   "execution_count": 67,
   "metadata": {},
   "outputs": [],
   "source": [
    "tables['Models'].drop(['ModelNameID', 'Created By', 'Last Modified',\n",
    "       'Selected(all)', 'Last Modified By', 'VersionNumber', 'ProjectName',\n",
    "       'Selected', 'Selected(help)'], axis=1, inplace=True)"
   ]
  },
  {
   "cell_type": "code",
   "execution_count": 68,
   "metadata": {},
   "outputs": [],
   "source": [
    "table = api.table(base_id=BASE_ID, table_name='Models')\n",
    "for id in new_ids_models:\n",
    "    dic = tables['Models'][tables['Models']['id'] == id].iloc[0].to_dict()\n",
    "    dic.pop(\"id\")\n",
    "    arr = []\n",
    "    for key in dic.keys():\n",
    "        # to avoid nan values (float type)\n",
    "        if type(dic[key]) == float and math.isnan(dic[key]):\n",
    "            arr.append(key)\n",
    "    for key in arr:\n",
    "        dic.pop(key)\n",
    "    table.update(id, dic)"
   ]
  },
  {
   "cell_type": "code",
   "execution_count": 69,
   "metadata": {},
   "outputs": [],
   "source": [
    "table = api.table(base_id=BASE_ID, table_name='Objectives')\n",
    "for id in new_ids_objectives:\n",
    "    dic = tables['Objectives'][tables['Objectives']['id'] == id].iloc[0].to_dict()\n",
    "    dic.pop(\"id\")\n",
    "    arr = []\n",
    "    for key in dic.keys():\n",
    "        if type(dic[key]) == float and math.isnan(dic[key]):\n",
    "            arr.append(key)\n",
    "    for key in arr:\n",
    "        dic.pop(key)\n",
    "    table.update(id, dic)"
   ]
  },
  {
   "cell_type": "code",
   "execution_count": 70,
   "metadata": {},
   "outputs": [],
   "source": [
    "tables['Elements'].drop(['Selected(all)','Selected(help)','Selected',\n",
    "        'Created By', 'Last Modified', 'Last Modified By', 'ElementID',\n",
    "        'Responsible', 'ProjectName', 'Pset', 'Phase', 'ModelNameDE'\n",
    "        ,'ValuesFR (from Values) (from Attributes)', 'COBieRegisterDE','AttributeNameDE',\n",
    "        'Direkt Attributes', 'JointtextEN', 'UniquePset', 'JointtextFR','Version',\n",
    "        'ValuesDE', 'ValuesIT (from Values) (from Attributes)', 'JointtextIT'\n",
    "        ,'AttributesInPsets','ElementDescriptionIT','PsetsNames', 'IfcEntityName',\n",
    "        'COBieRegister', 'JointtextDE', 'VersionNumber'], axis=1, inplace=True)"
   ]
  },
  {
   "cell_type": "code",
   "execution_count": 71,
   "metadata": {},
   "outputs": [],
   "source": [
    "table = api.table(base_id=BASE_ID, table_name='Elements')\n",
    "for id in new_ids_elements:\n",
    "    dic = tables['Elements'][tables['Elements']['id'] == id].iloc[0].to_dict()\n",
    "    dic.pop(\"id\")\n",
    "    arr = []\n",
    "    for key in dic.keys():\n",
    "        if type(dic[key]) == float and math.isnan(dic[key]):\n",
    "            arr.append(key)\n",
    "    for key in arr:\n",
    "        dic.pop(key)\n",
    "    table.update(id, dic)"
   ]
  },
  {
   "cell_type": "code",
   "execution_count": 72,
   "metadata": {},
   "outputs": [],
   "source": [
    "tables['Attributes'].drop(['PsetQset','Phase', 'Label',\n",
    "       'Responsible', 'IfcDataType', 'ValueType',\n",
    "       'AttributeID', 'ValueDE', 'Created By', 'DescriptionDE', 'ElementNameDE',\n",
    "       'Last Modified', 'ModelNameDE', 'ElemPsetAttrDE', 'ElemPsetAttrEN',\n",
    "       'ElemPsetAttrFR', 'ElemPsetAttrIT', 'PsetAttrDE', 'PsetAttrEN',\n",
    "       'PsetAttrFR', 'PsetAttrIT', 'SortElements', 'UsecaseNameDE',\n",
    "       'PsetNames', 'Selected(all)', 'Selected(help)',\n",
    "       'Selected', 'Last Modified By', 'SortElement', 'SortElementMin',\n",
    "       'SortElementAttribut', 'SortAttributExcel', 'SortElementExcel',\n",
    "       'ElementDescriptionDE', 'ExcelElementSummaryDE','ValuesIT',\n",
    "       'ValuesFR', 'ValuesEN', 'IfcEntity', 'IfcEntityName', 'Unit',\n",
    "       'COBieRegister', 'FachsystemAttribute', 'COBieAttibut', 'ProjectName',\n",
    "       'COBieAttibutDE', 'COBieRegisterDE', 'DataFieldName', 'FachsystemDE',\n",
    "       'prob'], axis=1, inplace=True)\n"
   ]
  },
  {
   "cell_type": "code",
   "execution_count": 73,
   "metadata": {},
   "outputs": [],
   "source": [
    "table = api.table(base_id=BASE_ID, table_name='Attributes')\n",
    "for id in new_ids_attributes:\n",
    "    dic = tables['Attributes'][tables['Attributes']['id'] == id].iloc[0].to_dict()\n",
    "    dic.pop(\"id\")\n",
    "    arr = []\n",
    "    for key in dic.keys():\n",
    "        if type(dic[key]) == float and math.isnan(dic[key]):\n",
    "            arr.append(key)\n",
    "    for key in arr:\n",
    "        dic.pop(key)\n",
    "    table.update(id, dic)"
   ]
  },
  {
   "cell_type": "code",
   "execution_count": 74,
   "metadata": {},
   "outputs": [],
   "source": [
    "tables['Usecases'].drop(['Selected','UsecaseID','FileName',\n",
    "    'Version', 'Responsible', 'Phase', 'Status', 'ModelNameDE',\n",
    "    'Created By', 'Last Modified', 'Last Modified By'], axis=1, inplace=True)"
   ]
  },
  {
   "cell_type": "code",
   "execution_count": 75,
   "metadata": {},
   "outputs": [],
   "source": [
    "table = api.table(base_id=BASE_ID, table_name='Usecases')\n",
    "for id in new_ids_usecases:\n",
    "    dic = tables['Usecases'][tables['Usecases']['id'] == id].iloc[0].to_dict()\n",
    "    dic.pop(\"id\")\n",
    "    arr = []\n",
    "    for key in dic.keys():\n",
    "        if type(dic[key]) == float and math.isnan(dic[key]):\n",
    "            arr.append(key)\n",
    "    for key in arr:\n",
    "        dic.pop(key)\n",
    "    table.update(id, dic)"
   ]
  },
  {
   "cell_type": "markdown",
   "metadata": {},
   "source": [
    "-------"
   ]
  },
  {
   "cell_type": "markdown",
   "metadata": {},
   "source": [
    "# Clean Up"
   ]
  },
  {
   "cell_type": "code",
   "execution_count": 79,
   "metadata": {},
   "outputs": [],
   "source": [
    "# api = Api(api_key=API_KEY)"
   ]
  },
  {
   "cell_type": "code",
   "execution_count": 81,
   "metadata": {},
   "outputs": [
    {
     "data": {
      "text/plain": [
       "'TEST_2021'"
      ]
     },
     "execution_count": 81,
     "metadata": {},
     "output_type": "execute_result"
    }
   ],
   "source": [
    "# new_project_id"
   ]
  },
  {
   "cell_type": "code",
   "execution_count": 85,
   "metadata": {},
   "outputs": [
    {
     "data": {
      "text/plain": [
       "'recpqwYE1ESwSrtDs'"
      ]
     },
     "execution_count": 85,
     "metadata": {},
     "output_type": "execute_result"
    }
   ],
   "source": [
    "# new_project_record_id"
   ]
  },
  {
   "cell_type": "code",
   "execution_count": 80,
   "metadata": {},
   "outputs": [],
   "source": [
    "# def delete_project(project_id, new_project_record_id):\n",
    "#     formula = match({\"Project\": project_id})\n",
    "#     table = api.table(base_id=BASE_ID, table_name='Elements')\n",
    "#     elements = table.all(formula=formula)\n",
    "#     for element in elements: table.delete(element['id'])\n",
    "\n",
    "#     table = api.table(base_id=BASE_ID, table_name='Attributes')\n",
    "#     attributes = table.all(formula=formula)\n",
    "#     for attribute in attributes: table.delete(attribute['id'])\n",
    "\n",
    "#     table = api.table(base_id=BASE_ID, table_name='Models')\n",
    "#     models = table.all(formula=formula)\n",
    "#     for model in models: table.delete(model['id'])\n",
    "\n",
    "#     table = api.table(base_id=BASE_ID, table_name='Usecases')\n",
    "#     usecases = table.all(formula=formula)\n",
    "#     for usecase in usecases: table.delete(usecase['id'])\n",
    "\n",
    "#     table = api.table(base_id=BASE_ID, table_name='Objectives')\n",
    "#     objectives = table.all(formula=formula)\n",
    "#     for objective in objectives: table.delete(objective['id'])\n",
    "\n",
    "#     table = api.table(base_id=BASE_ID, table_name='Projects')\n",
    "#     table.delete(new_project_record_id)"
   ]
  },
  {
   "cell_type": "code",
   "execution_count": 87,
   "metadata": {},
   "outputs": [],
   "source": [
    "# delete_project(new_project_id, new_project_record_id)"
   ]
  }
 ],
 "metadata": {
  "kernelspec": {
   "display_name": "venv",
   "language": "python",
   "name": "python3"
  },
  "language_info": {
   "codemirror_mode": {
    "name": "ipython",
    "version": 3
   },
   "file_extension": ".py",
   "mimetype": "text/x-python",
   "name": "python",
   "nbconvert_exporter": "python",
   "pygments_lexer": "ipython3",
   "version": "3.10.2"
  },
  "orig_nbformat": 4
 },
 "nbformat": 4,
 "nbformat_minor": 2
}
